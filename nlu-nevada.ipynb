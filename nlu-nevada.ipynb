{
 "cells": [
  {
   "cell_type": "code",
   "execution_count": 3,
   "metadata": {},
   "outputs": [],
   "source": [
    "# Import pandas\n",
    "import pandas as pd\n",
    "\n",
    "# Assign spreadsheet filename to `file`\n",
    "file = 'Все глобалы за существование ЧБ.xlsx'\n",
    "\n",
    "# Load spreadsheet\n",
    "xl = pd.ExcelFile(file)"
   ]
  },
  {
   "cell_type": "code",
   "execution_count": 92,
   "metadata": {},
   "outputs": [],
   "source": [
    "# Print the sheet names\n",
    "sheet_names_list = xl.sheet_names\n",
    "df = None\n",
    "df_current = None\n",
    "\n",
    "for i in range(len(sheet_names_list)):\n",
    "    # Load a sheet into a DataFrame by name: df1\n",
    "    df = xl.parse(sheet_names_list[i])\n",
    "    df = df.loc[:,['id','mesTExt','type','dialogid', 'Mdate','AgentEmail']]\n",
    "    df = df.drop_duplicates()\n",
    "    #df.head()\n",
    "\n",
    "    df['Mdate'] = pd.to_datetime(df['Mdate'],format='%Y-%m-%d')\n",
    "    df['Mdate'] = df['Mdate'].dt.date\n",
    "\n",
    "    df_filter = df['type'].isin([1])\n",
    "    df1 = df[df_filter]\n",
    "\n",
    "    a = df1.groupby(['dialogid', 'Mdate'])['mesTExt'].transform(lambda answer : \" \".join(str(x) for x in answer))\n",
    "    df12= a.to_frame()\n",
    "\n",
    "    df4 = pd.concat([df12, df1.loc[:,['dialogid','Mdate']]], axis=1)\n",
    "    df4 = df4.drop_duplicates()\n",
    "\n",
    "    df_filter = df['type'].isin([2])\n",
    "    df5 = df[df_filter]\n",
    "    df5 = df5.loc[:,['dialogid', 'Mdate','AgentEmail']]\n",
    "    df5 = df5.drop_duplicates()\n",
    "\n",
    "    df_req=pd.merge(df4, df5, on=['dialogid', 'Mdate'], how='inner')\n",
    "    if i>0:\n",
    "        df = pd.concat([df_req, df_current], axis=0, ignore_index=True)\n",
    "    df_current = df_req\n",
    "    \n",
    "df.to_csv(\"Заявки в чатбот.csv\", encoding = 'utf-16', sep=\",\", index=False)   \n"
   ]
  },
  {
   "cell_type": "code",
   "execution_count": 93,
   "metadata": {},
   "outputs": [
    {
     "name": "stdout",
     "output_type": "stream",
     "text": [
      "<class 'pandas.core.frame.DataFrame'>\n",
      "RangeIndex: 6641 entries, 0 to 6640\n",
      "Data columns (total 4 columns):\n",
      "mesTExt       6641 non-null object\n",
      "dialogid      6641 non-null int64\n",
      "Mdate         6641 non-null object\n",
      "AgentEmail    6641 non-null object\n",
      "dtypes: int64(1), object(3)\n",
      "memory usage: 207.6+ KB\n"
     ]
    }
   ],
   "source": [
    "df.info()"
   ]
  },
  {
   "cell_type": "code",
   "execution_count": 95,
   "metadata": {},
   "outputs": [
    {
     "data": {
      "text/html": [
       "<div>\n",
       "<style scoped>\n",
       "    .dataframe tbody tr th:only-of-type {\n",
       "        vertical-align: middle;\n",
       "    }\n",
       "\n",
       "    .dataframe tbody tr th {\n",
       "        vertical-align: top;\n",
       "    }\n",
       "\n",
       "    .dataframe thead th {\n",
       "        text-align: right;\n",
       "    }\n",
       "</style>\n",
       "<table border=\"1\" class=\"dataframe\">\n",
       "  <thead>\n",
       "    <tr style=\"text-align: right;\">\n",
       "      <th></th>\n",
       "      <th>mesTExt</th>\n",
       "      <th>dialogid</th>\n",
       "      <th>Mdate</th>\n",
       "      <th>AgentEmail</th>\n",
       "    </tr>\n",
       "  </thead>\n",
       "  <tbody>\n",
       "    <tr>\n",
       "      <th>6636</th>\n",
       "      <td>Не получается зайти в ERP nan Сейчас попробую</td>\n",
       "      <td>12961952</td>\n",
       "      <td>2020-03-31</td>\n",
       "      <td>c2d_erp_tp@dv-nevada.ru</td>\n",
       "    </tr>\n",
       "    <tr>\n",
       "      <th>6637</th>\n",
       "      <td>Доброе утро!\\nСейчас проверю</td>\n",
       "      <td>13494671</td>\n",
       "      <td>2020-03-31</td>\n",
       "      <td>c2d_centoffice_sa@dv-nevada.ru</td>\n",
       "    </tr>\n",
       "    <tr>\n",
       "      <th>6638</th>\n",
       "      <td>Добрый день.\\nне работает директ аксесс. Работаю на удаленке. Нет подключения, только к сети интернет</td>\n",
       "      <td>9863737</td>\n",
       "      <td>2020-03-31</td>\n",
       "      <td>briazgunov.d@dv-nevada.ru</td>\n",
       "    </tr>\n",
       "    <tr>\n",
       "      <th>6639</th>\n",
       "      <td>Добрый день.\\nне работает директ аксесс. Работаю на удаленке. Нет подключения, только к сети интернет</td>\n",
       "      <td>9863737</td>\n",
       "      <td>2020-03-31</td>\n",
       "      <td>c2d_georg_shkot_sa@dv-nevada.ru</td>\n",
       "    </tr>\n",
       "    <tr>\n",
       "      <th>6640</th>\n",
       "      <td>Добрый день! Не могу зайти в папку OBMEN (co-ok-3). Нужна срочно</td>\n",
       "      <td>12450202</td>\n",
       "      <td>2020-03-31</td>\n",
       "      <td>briazgunov.d@dv-nevada.ru</td>\n",
       "    </tr>\n",
       "  </tbody>\n",
       "</table>\n",
       "</div>"
      ],
      "text/plain": [
       "                                                                                                    mesTExt  dialogid       Mdate                       AgentEmail\n",
       "6636                                                          Не получается зайти в ERP nan Сейчас попробую  12961952  2020-03-31          c2d_erp_tp@dv-nevada.ru\n",
       "6637                                                                           Доброе утро!\\nСейчас проверю  13494671  2020-03-31   c2d_centoffice_sa@dv-nevada.ru\n",
       "6638  Добрый день.\\nне работает директ аксесс. Работаю на удаленке. Нет подключения, только к сети интернет   9863737  2020-03-31        briazgunov.d@dv-nevada.ru\n",
       "6639  Добрый день.\\nне работает директ аксесс. Работаю на удаленке. Нет подключения, только к сети интернет   9863737  2020-03-31  c2d_georg_shkot_sa@dv-nevada.ru\n",
       "6640                                       Добрый день! Не могу зайти в папку OBMEN (co-ok-3). Нужна срочно  12450202  2020-03-31        briazgunov.d@dv-nevada.ru"
      ]
     },
     "execution_count": 95,
     "metadata": {},
     "output_type": "execute_result"
    }
   ],
   "source": [
    "df.tail()"
   ]
  },
  {
   "cell_type": "code",
   "execution_count": null,
   "metadata": {},
   "outputs": [],
   "source": []
  }
 ],
 "metadata": {
  "kernelspec": {
   "display_name": "Python 3",
   "language": "python",
   "name": "python3"
  },
  "language_info": {
   "codemirror_mode": {
    "name": "ipython",
    "version": 3
   },
   "file_extension": ".py",
   "mimetype": "text/x-python",
   "name": "python",
   "nbconvert_exporter": "python",
   "pygments_lexer": "ipython3",
   "version": "3.7.5"
  }
 },
 "nbformat": 4,
 "nbformat_minor": 2
}
